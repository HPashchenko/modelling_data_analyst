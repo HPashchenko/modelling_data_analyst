{
  "cells": [
    {
      "cell_type": "markdown",
      "metadata": {
        "id": "view-in-github",
        "colab_type": "text"
      },
      "source": [
        "<a href=\"https://colab.research.google.com/github/HPashchenko/modelling_data_analyst/blob/main/DA_of_2_2_Function_continue.ipynb\" target=\"_parent\"><img src=\"https://colab.research.google.com/assets/colab-badge.svg\" alt=\"Open In Colab\"/></a>"
      ]
    },
    {
      "cell_type": "markdown",
      "metadata": {
        "id": "981d9265"
      },
      "source": [
        "# Домашнє завдання до теми \"Functions\"\n",
        "В цьому домашньому завданні в деяких задачах є частини коду, та в кожному завданні описано, що з ними треба зробити, часто - просто виконати після того, як ви напишете частину, якої поки не вистачає. Пишіть, будь ласка, код, який реалізує рішення кожного завдання, безпосереньо під формулюванням завдання, створюючи нові клітинки. Можете створювати скільки завгодно клітинок для виконання одного завдання."
      ],
      "id": "981d9265"
    },
    {
      "cell_type": "markdown",
      "metadata": {
        "id": "eb55a967"
      },
      "source": [
        "1. Напишіть функцію `is_even`, яка для заданого числа визначає, чи воно є парним (тобто ділиться на 2 без остачі, наприклад 4, 10, 102). Функція має вертати результат типу bool.\n",
        "Продемонструйте результати робити функції запустивши код нижче."
      ],
      "id": "eb55a967"
    },
    {
      "cell_type": "code",
      "execution_count": null,
      "metadata": {
        "ExecuteTime": {
          "end_time": "2023-06-13T09:48:47.072569Z",
          "start_time": "2023-06-13T09:48:47.068977Z"
        },
        "id": "66e68f7a"
      },
      "outputs": [],
      "source": [
        "def is_even(a):\n",
        "    return a % 2 == 0"
      ],
      "id": "66e68f7a"
    },
    {
      "cell_type": "code",
      "execution_count": null,
      "metadata": {
        "ExecuteTime": {
          "end_time": "2023-06-13T09:51:03.574283Z",
          "start_time": "2023-06-13T09:51:03.568715Z"
        },
        "id": "c60e04d1",
        "colab": {
          "base_uri": "https://localhost:8080/"
        },
        "outputId": "9e1fcedf-610f-47f6-805f-19d6309ccfa6"
      },
      "outputs": [
        {
          "output_type": "stream",
          "name": "stdout",
          "text": [
            "[False, True, False, False, True]\n"
          ]
        }
      ],
      "source": [
        "result= [is_even(digit) for digit in [101, 2002, 3043, 5015, 8222]]\n",
        "print(result)\n"
      ],
      "id": "c60e04d1"
    },
    {
      "cell_type": "markdown",
      "metadata": {
        "ExecuteTime": {
          "end_time": "2022-10-22T04:15:21.939494Z",
          "start_time": "2022-10-22T04:15:21.933981Z"
        },
        "id": "c094769a"
      },
      "source": [
        "2. Напишіть функцію `get_random_int_list`, яка приймає один аргумент - кількість чисел `n`, і повертає список, що містить `n` випадкових цілих чисел з діапазону від 0 до 100 включно. Для генерації випадкових чисел використовуйте модуль `random`.\n",
        "\n",
        "  **Вимоги до реалізації:**\n",
        "\n",
        "  - Функція повинна приймати один аргумент `n` - кількість чисел у списку.\n",
        "  - Для генерації випадкових чисел використовуйте функцію `random.randint(0, 100)`.\n",
        "  - Повернутий список має містити рівно `n` випадкових чисел.\n",
        "\n",
        "  **Приклади виклику функції та очікувані результати:**\n",
        "\n",
        "  1. **Приклад 1:**\n",
        "    - Виклик функції: `get_random_int_list(5)`\n",
        "    - Очікуваний результат: Список з 5 випадковими числами, наприклад, `[23, 77, 45, 8, 91]`. Кожен запуск може повертати різні числа через випадковість.\n",
        "\n",
        "  2. **Приклад 2:**\n",
        "    - Виклик функції: `get_random_int_list(3)`\n",
        "    - Очікуваний результат: Список з 3 випадковими числами, наприклад, `[64, 20, 37]`.\n",
        "\n",
        "  3. **Приклад 3:**\n",
        "    - Виклик функції: `get_random_int_list(0)`\n",
        "    - Очікуваний результат: Порожній список `[]`, оскільки було запитано 0 чисел.\n",
        "\n",
        "Продемонструйте результати робити функції запустивши код нижче."
      ],
      "id": "c094769a"
    },
    {
      "cell_type": "code",
      "source": [
        "import random\n",
        "def get_random_int_list(n):\n",
        "    result = []\n",
        "    a = 0\n",
        "    while a < n:\n",
        "      result.append(random.randint(0, 100))\n",
        "      a = a + 1\n",
        "    return result\n",
        "\n",
        "\n",
        "\n",
        "print(f'Список з 5 випадковими числами, наприклад,', get_random_int_list(5))\n",
        "print(f'Список з 3 випадковими числами, наприклад,', get_random_int_list(3))\n",
        "print(f'Порожній список', get_random_int_list(0),'скільки було запитано 0 чисел')"
      ],
      "metadata": {
        "id": "r7hWrg3IK1_b",
        "colab": {
          "base_uri": "https://localhost:8080/"
        },
        "outputId": "ee43ae63-54d2-459e-c175-cd7e1f1d16a4"
      },
      "id": "r7hWrg3IK1_b",
      "execution_count": null,
      "outputs": [
        {
          "output_type": "stream",
          "name": "stdout",
          "text": [
            "Список з 5 випадковими числами, наприклад, [83, 62, 60, 37, 17]\n",
            "Список з 3 випадковими числами, наприклад, [36, 80, 19]\n",
            "Порожній список [] скільки було запитано 0 чисел\n"
          ]
        }
      ]
    },
    {
      "cell_type": "code",
      "execution_count": null,
      "metadata": {
        "ExecuteTime": {
          "end_time": "2023-06-13T09:56:26.788341Z",
          "start_time": "2023-06-13T09:56:26.784436Z"
        },
        "id": "7948fe2d",
        "colab": {
          "base_uri": "https://localhost:8080/"
        },
        "outputId": "bbc42e2f-598c-413b-d64e-b4d4f2209588"
      },
      "outputs": [
        {
          "output_type": "stream",
          "name": "stdout",
          "text": [
            "[77, 49, 86, 44, 23]\n",
            "[79, 22, 45]\n",
            "[]\n",
            "[47, 8, 25, 87, 78, 7, 88, 47]\n"
          ]
        }
      ],
      "source": [
        "for number in [5, 3, 0, 8]:\n",
        "  print(get_random_int_list(number))"
      ],
      "id": "7948fe2d"
    },
    {
      "cell_type": "markdown",
      "source": [
        "3. Створіть функцію `sum_numbers`, яка приймає довільну кількість числових аргументів і повертає їх суму. Функція повинна працювати з будь-якою кількістю числових аргументів, включаючи випадки, коли аргументів немає.\n",
        "\n",
        "  **Приклади виклику функції:**\n",
        "\n",
        "  1. `sum_numbers(1, 2, 3, 4)` повинно повернути `10`.\n",
        "  2. `sum_numbers(10, 20)` повинно повернути `30`.\n",
        "  3. `sum_numbers()` повинно повернути `0`.\n",
        "\n",
        "  **Вимоги до реалізації:**\n",
        "\n",
        "  - Функція має використовувати `*args` для прийому довільної кількості аргументів.\n",
        "  - Функція має правильно обробляти випадок, коли їй не передано жодного аргумента.\n",
        "\n",
        "  Продемонструйте результати робити функції запустивши її на наведених наборах нижче."
      ],
      "metadata": {
        "id": "xPlxqkpyFkti"
      },
      "id": "xPlxqkpyFkti"
    },
    {
      "cell_type": "code",
      "source": [
        "def sum_numbers(*args):\n",
        "    result = 0\n",
        "    for el_num in args:\n",
        "      result = result+el_num\n",
        "    print(result)\n",
        "\n",
        "  #  print(sum(args))\n",
        "\n",
        "#sum_numbers(1, 2, 3, 4)\n",
        "#sum_numbers(10, 20)\n",
        "#sum_numbers()"
      ],
      "metadata": {
        "id": "WjjXB8MqK5Kt",
        "colab": {
          "base_uri": "https://localhost:8080/"
        },
        "outputId": "bb2ef031-38a0-4a2c-ba30-a82dd38362ed"
      },
      "id": "WjjXB8MqK5Kt",
      "execution_count": null,
      "outputs": [
        {
          "output_type": "stream",
          "name": "stdout",
          "text": [
            "10\n",
            "30\n",
            "0\n"
          ]
        }
      ]
    },
    {
      "cell_type": "code",
      "source": [
        "number_sets = [\n",
        "    (1, 2, 3, 4),\n",
        "    (10, 20),\n",
        "    (11, 12, 13),\n",
        "    (),\n",
        "    (-19, -164, 183)\n",
        "]"
      ],
      "metadata": {
        "id": "TyQnD-d1GNOM"
      },
      "execution_count": null,
      "outputs": [],
      "id": "TyQnD-d1GNOM"
    },
    {
      "cell_type": "code",
      "source": [
        "# sum_numbers(*tuple(number_sets[0]))\n",
        "# sum_numbers(*tuple(number_sets[1]))\n",
        "# sum_numbers(*tuple(number_sets[2]))\n",
        "# sum_numbers(*tuple(number_sets[3]))\n",
        "# sum_numbers(*tuple(number_sets[4]))\n",
        "\n",
        "for el_set in number_sets:\n",
        "  sum_numbers(*tuple(el_set))\n"
      ],
      "metadata": {
        "id": "S_z07TQVLCQT",
        "colab": {
          "base_uri": "https://localhost:8080/"
        },
        "outputId": "c8647cd8-36b3-4ef9-a90b-1c842129fb34"
      },
      "id": "S_z07TQVLCQT",
      "execution_count": null,
      "outputs": [
        {
          "output_type": "stream",
          "name": "stdout",
          "text": [
            "10\n",
            "30\n",
            "36\n",
            "0\n",
            "0\n"
          ]
        }
      ]
    },
    {
      "cell_type": "markdown",
      "metadata": {
        "id": "d1769a5b"
      },
      "source": [
        "4. **Завдання на рефакторинг: Обчислення Індексу Маси Тіла (BMI).** Рефакторинг - стандартна практика при роботі зі своїм, чи чужим кодом в компанії. Тут ми дізнаємось, що це і попрактикуємось це робити.\n",
        "\n",
        "  У вашому розпорядженні є фрагмент коду, який обчислює [індекс маси тіла (BMI)](https://uk.wikipedia.org/wiki/%D0%86%D0%BD%D0%B4%D0%B5%D0%BA%D1%81_%D0%BC%D0%B0%D1%81%D0%B8_%D1%82%D1%96%D0%BB%D0%B0#:~:text=%D0%86%CC%81%D0%BD%D0%B4%D0%B5%D0%BA%D1%81%20%D0%BC%D0%B0%CC%81%D1%81%D0%B8%20%D1%82%D1%96%CC%81%D0%BB%D0%B0%20(%D0%86%D0%9C%D0%A2%2C%20%D0%B0%D0%BD%D0%B3%D0%BB,%D0%BD%D0%BE%D1%80%D0%BC%D0%B0%D0%BB%D1%8C%D0%BD%D0%BE%D1%8E%2C%20%D0%BD%D0%B0%D0%B4%D0%BC%D1%96%D1%80%D0%BD%D0%BE%D1%8E%20(%D0%BE%D0%B6%D0%B8%D1%80%D1%96%D0%BD%D0%BD%D1%8F%D0%BC) для п'яти осіб. Ваше завдання - рефакторити цей код, тобто оптимізувати його вигляд, виокремивши повторювані частини в окрему функцію. Мета рефакторингу - **зберегти функціонал існуючого коду**, але зробити його більш читабельним, зручним для розуміння та модифікації.   пʼяти осіб. Для обчислення індексу маси тіла треба розділити вагу на зріст, піднесений до квадрату.\n",
        "\n",
        "  Виділіть у функцію код, що дублюється (робить одні і ті ж самі операції, але з різними числами) так, аби результат збергісі **той самий**, але коду стало менше.\n",
        "\n",
        "  В кінці - запустіть свій відрефакторений фрагмент коду. Якщо Ваш код виводить не те ж саме, що наведений фрагмент до рефакторингу, завдання вважається не виконаним.\n",
        "\n",
        "  **Увага**: Це завдання - творче. Можна обгорнути даний код у функцію по-різному. Єдиної правильної відповіді нема. Буде перевірятись розуміння підходу \"винесення частин, що повторюються, у функцію\"."
      ],
      "id": "d1769a5b"
    },
    {
      "cell_type": "code",
      "execution_count": 15,
      "metadata": {
        "ExecuteTime": {
          "end_time": "2023-02-26T21:36:29.139957Z",
          "start_time": "2023-02-26T21:36:29.117743Z"
        },
        "id": "e0750a47",
        "colab": {
          "base_uri": "https://localhost:8080/"
        },
        "outputId": "ac72a0bc-6842-428c-f2e7-42badca5749a"
      },
      "outputs": [
        {
          "output_type": "stream",
          "name": "stdout",
          "text": [
            "bmi person1 = 30\n",
            "bmi person2 = 29\n",
            "bmi person3 = 29\n",
            "bmi person4 = 24\n",
            "bmi person5 = 28\n"
          ]
        }
      ],
      "source": [
        "person1 = [80, 1.62]\n",
        "person2 = [69, 1.53]\n",
        "person3 = [80, 1.66]\n",
        "person4 = [80, 1.79]\n",
        "person5 = [72, 1.60]\n",
        "\n",
        "bmi_person1 = int(person1[0] / person1[1]**2)\n",
        "print(\"bmi {} = {}\".format('person1', bmi_person1))\n",
        "\n",
        "bmi_person2 = int(person2[0] / person2[1]**2)\n",
        "print(\"bmi {} = {}\".format('person2', bmi_person2))\n",
        "\n",
        "bmi_person3 = int(person3[0] / person3[1]**2)\n",
        "print(\"bmi {} = {}\".format('person3', bmi_person3))\n",
        "\n",
        "bmi_person4 = int(person4[0] / person4[1]**2)\n",
        "print(\"bmi {} = {}\".format('person4', bmi_person4))\n",
        "\n",
        "bmi_person5 = int(person5[0] / person5[1]**2)\n",
        "print(\"bmi {} = {}\".format('person5', bmi_person5))"
      ],
      "id": "e0750a47"
    },
    {
      "cell_type": "code",
      "source": [
        "person = {\n",
        "    'person1' : [80, 1.62],\n",
        "    'person2' : [69, 1.53],\n",
        "    'person3' : [80, 1.66],\n",
        "    'person4' : [80, 1.79],\n",
        "    'person5' : [72, 1.60]\n",
        "}\n",
        "\n",
        "def bmi(weight: int, height: float):\n",
        "    return int(weight/height**2)\n",
        "\n",
        "def bmi_result(arg, bmi):\n",
        "    return (f'BMI {arg} is {bmi}')\n",
        "\n",
        "for arg, val in person.items():\n",
        "    val_new = bmi(val[0], val[1])\n",
        "    print(bmi_result(arg, val_new))"
      ],
      "metadata": {
        "id": "MR3hny6hLFmu",
        "colab": {
          "base_uri": "https://localhost:8080/"
        },
        "outputId": "81338011-9055-4876-cdc0-b2d2c58cb4f9"
      },
      "id": "MR3hny6hLFmu",
      "execution_count": 28,
      "outputs": [
        {
          "output_type": "stream",
          "name": "stdout",
          "text": [
            "BMI person1 is 30\n",
            "BMI person2 is 29\n",
            "BMI person3 is 29\n",
            "BMI person4 is 24\n",
            "BMI person5 is 28\n"
          ]
        }
      ]
    }
  ],
  "metadata": {
    "kernelspec": {
      "display_name": "Python 3 (ipykernel)",
      "language": "python",
      "name": "python3"
    },
    "language_info": {
      "codemirror_mode": {
        "name": "ipython",
        "version": 3
      },
      "file_extension": ".py",
      "mimetype": "text/x-python",
      "name": "python",
      "nbconvert_exporter": "python",
      "pygments_lexer": "ipython3",
      "version": "3.10.4"
    },
    "toc": {
      "base_numbering": 1,
      "nav_menu": {},
      "number_sections": true,
      "sideBar": true,
      "skip_h1_title": false,
      "title_cell": "Table of Contents",
      "title_sidebar": "Contents",
      "toc_cell": false,
      "toc_position": {},
      "toc_section_display": true,
      "toc_window_display": false
    },
    "colab": {
      "provenance": [],
      "include_colab_link": true
    }
  },
  "nbformat": 4,
  "nbformat_minor": 5
}